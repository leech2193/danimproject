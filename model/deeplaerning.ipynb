{
 "cells": [
  {
   "cell_type": "code",
   "execution_count": 1,
   "id": "70761c8f",
   "metadata": {},
   "outputs": [],
   "source": [
    "import pandas as pd\n",
    "import numpy as np\n",
    "\n",
    "# csv 파일에서 불러오기\n",
    "# r_cols = ['place_id', 'userid', 'travel_date', 'point']\n",
    "# ratings = pd.read_csv('C:/RecoSys/Data/u.data', names=r_cols,  sep='\\t',encoding='latin-1')\n",
    "ratings = pd.read_csv('./travel_records.csv')\n",
    "ratings = ratings[['place_id', 'userid', 'point']].astype(int)            # timestamp 제거\n",
    "\n",
    "# train test 분리\n",
    "from sklearn.utils import shuffle\n",
    "TRAIN_SIZE = 0.75\n",
    "ratings = shuffle(ratings)\n",
    "cutoff = int(TRAIN_SIZE * len(ratings))\n",
    "ratings_train = ratings.iloc[:cutoff]\n",
    "ratings_test = ratings.iloc[cutoff:]"
   ]
  },
  {
   "cell_type": "code",
   "execution_count": 20,
   "id": "2767cab7",
   "metadata": {},
   "outputs": [
    {
     "name": "stdout",
     "output_type": "stream",
     "text": [
      "Model: \"model_3\"\n",
      "__________________________________________________________________________________________________\n",
      " Layer (type)                   Output Shape         Param #     Connected to                     \n",
      "==================================================================================================\n",
      " input_7 (InputLayer)           [(None, 1)]          0           []                               \n",
      "                                                                                                  \n",
      " input_8 (InputLayer)           [(None, 1)]          0           []                               \n",
      "                                                                                                  \n",
      " embedding_12 (Embedding)       (None, 1, 200)       2322400     ['input_7[0][0]']                \n",
      "                                                                                                  \n",
      " embedding_13 (Embedding)       (None, 1, 200)       42400       ['input_8[0][0]']                \n",
      "                                                                                                  \n",
      " dot_2 (Dot)                    (None, 1, 1)         0           ['embedding_12[0][0]',           \n",
      "                                                                  'embedding_13[0][0]']           \n",
      "                                                                                                  \n",
      " embedding_14 (Embedding)       (None, 1, 1)         11612       ['input_7[0][0]']                \n",
      "                                                                                                  \n",
      " embedding_15 (Embedding)       (None, 1, 1)         212         ['input_8[0][0]']                \n",
      "                                                                                                  \n",
      " add_2 (Add)                    (None, 1, 1)         0           ['dot_2[0][0]',                  \n",
      "                                                                  'embedding_14[0][0]',           \n",
      "                                                                  'embedding_15[0][0]']           \n",
      "                                                                                                  \n",
      " flatten_6 (Flatten)            (None, 1)            0           ['add_2[0][0]']                  \n",
      "                                                                                                  \n",
      "==================================================================================================\n",
      "Total params: 2,376,624\n",
      "Trainable params: 2,376,624\n",
      "Non-trainable params: 0\n",
      "__________________________________________________________________________________________________\n"
     ]
    }
   ],
   "source": [
    "import tensorflow as tf\n",
    "from tensorflow.keras import layers\n",
    "from tensorflow.keras.models import Model\n",
    "from tensorflow.keras.layers import Input, Embedding, Dot, Add, Flatten\n",
    "from tensorflow.keras.regularizers import l2\n",
    "from tensorflow.keras.optimizers import SGD, Adamax\n",
    "\n",
    "K = 200\n",
    "mu = ratings_train.point.mean()\n",
    "M = ratings.userid.max() + 1\n",
    "N = ratings.place_id.max() + 1\n",
    "\n",
    "def RMSE(y_true, y_pred):\n",
    "    return tf.sqrt(tf.reduce_mean(tf.square(y_true - y_pred)))\n",
    "\n",
    "user = Input(shape=(1,))\n",
    "item = Input(shape=(1,))\n",
    "P_embedding = Embedding(M,K,embeddings_regularizer=l2())(user)\n",
    "Q_embedding = Embedding(N,K,embeddings_regularizer=l2())(item)\n",
    "user_bias = Embedding(M,1,embeddings_regularizer=l2())(user)\n",
    "item_bias = Embedding(N,1,embeddings_regularizer=l2())(item)\n",
    "\n",
    "R = layers.dot([P_embedding, Q_embedding], axes=2)\n",
    "R = layers.add([R, user_bias, item_bias])\n",
    "R = Flatten()(R)\n",
    "\n",
    "model = Model(inputs=[user,item], outputs=R)\n",
    "model.compile(\n",
    "    loss=RMSE,\n",
    "    optimizer=SGD(),\n",
    "    metrics=[RMSE]\n",
    ")\n",
    "model.summary()"
   ]
  },
  {
   "cell_type": "code",
   "execution_count": 21,
   "id": "0a4aeb1a",
   "metadata": {},
   "outputs": [
    {
     "name": "stdout",
     "output_type": "stream",
     "text": [
      "Epoch 1/60\n",
      " 6/68 [=>............................] - ETA: 0s - loss: 20.6026 - RMSE: 0.8126 "
     ]
    },
    {
     "name": "stderr",
     "output_type": "stream",
     "text": [
      "2022-11-15 22:52:09.846236: I tensorflow/core/grappler/optimizers/custom_graph_optimizer_registry.cc:113] Plugin optimizer for device_type GPU is enabled.\n"
     ]
    },
    {
     "name": "stdout",
     "output_type": "stream",
     "text": [
      "68/68 [==============================] - 1s 13ms/step - loss: 20.3431 - RMSE: 0.7979 - val_loss: 20.0768 - val_RMSE: 0.8008\n",
      "Epoch 2/60\n",
      " 1/68 [..............................] - ETA: 0s - loss: 20.0142 - RMSE: 0.7360"
     ]
    },
    {
     "name": "stderr",
     "output_type": "stream",
     "text": [
      "2022-11-15 22:52:10.666256: I tensorflow/core/grappler/optimizers/custom_graph_optimizer_registry.cc:113] Plugin optimizer for device_type GPU is enabled.\n"
     ]
    },
    {
     "name": "stdout",
     "output_type": "stream",
     "text": [
      "68/68 [==============================] - 1s 10ms/step - loss: 19.8172 - RMSE: 0.7917 - val_loss: 19.5585 - val_RMSE: 0.7999\n",
      "Epoch 3/60\n",
      "68/68 [==============================] - 1s 10ms/step - loss: 19.3061 - RMSE: 0.7844 - val_loss: 19.0542 - val_RMSE: 0.7991\n",
      "Epoch 4/60\n",
      "68/68 [==============================] - 1s 10ms/step - loss: 18.8083 - RMSE: 0.7850 - val_loss: 18.5635 - val_RMSE: 0.7983\n",
      "Epoch 5/60\n",
      "68/68 [==============================] - 1s 10ms/step - loss: 18.3237 - RMSE: 0.7910 - val_loss: 18.0861 - val_RMSE: 0.7978\n",
      "Epoch 6/60\n",
      "68/68 [==============================] - 1s 10ms/step - loss: 17.8525 - RMSE: 0.7893 - val_loss: 17.6215 - val_RMSE: 0.7972\n",
      "Epoch 7/60\n",
      "68/68 [==============================] - 1s 10ms/step - loss: 17.3941 - RMSE: 0.7842 - val_loss: 17.1694 - val_RMSE: 0.7966\n",
      "Epoch 8/60\n",
      "68/68 [==============================] - 1s 10ms/step - loss: 16.9474 - RMSE: 0.7882 - val_loss: 16.7295 - val_RMSE: 0.7960\n",
      "Epoch 9/60\n",
      "68/68 [==============================] - 1s 10ms/step - loss: 16.5135 - RMSE: 0.7828 - val_loss: 16.3013 - val_RMSE: 0.7955\n",
      "Epoch 10/60\n",
      "68/68 [==============================] - 1s 10ms/step - loss: 16.0903 - RMSE: 0.7858 - val_loss: 15.8848 - val_RMSE: 0.7951\n",
      "Epoch 11/60\n",
      "68/68 [==============================] - 1s 10ms/step - loss: 15.6795 - RMSE: 0.7812 - val_loss: 15.4794 - val_RMSE: 0.7947\n",
      "Epoch 12/60\n",
      "68/68 [==============================] - 1s 10ms/step - loss: 15.2791 - RMSE: 0.7826 - val_loss: 15.0850 - val_RMSE: 0.7943\n",
      "Epoch 13/60\n",
      "68/68 [==============================] - 1s 10ms/step - loss: 14.8896 - RMSE: 0.7802 - val_loss: 14.7011 - val_RMSE: 0.7939\n",
      "Epoch 14/60\n",
      "68/68 [==============================] - 1s 10ms/step - loss: 14.5107 - RMSE: 0.7950 - val_loss: 14.3276 - val_RMSE: 0.7936\n",
      "Epoch 15/60\n",
      "68/68 [==============================] - 1s 10ms/step - loss: 14.1422 - RMSE: 0.7840 - val_loss: 13.9640 - val_RMSE: 0.7932\n",
      "Epoch 16/60\n",
      "68/68 [==============================] - 1s 10ms/step - loss: 13.7828 - RMSE: 0.7844 - val_loss: 13.6103 - val_RMSE: 0.7929\n",
      "Epoch 17/60\n",
      "68/68 [==============================] - 1s 10ms/step - loss: 13.4342 - RMSE: 0.7793 - val_loss: 13.2660 - val_RMSE: 0.7926\n",
      "Epoch 18/60\n",
      "68/68 [==============================] - 1s 10ms/step - loss: 13.0940 - RMSE: 0.7780 - val_loss: 12.9311 - val_RMSE: 0.7923\n",
      "Epoch 19/60\n",
      "68/68 [==============================] - 1s 11ms/step - loss: 12.7633 - RMSE: 0.7754 - val_loss: 12.6051 - val_RMSE: 0.7921\n",
      "Epoch 20/60\n",
      "68/68 [==============================] - 1s 10ms/step - loss: 12.4415 - RMSE: 0.7771 - val_loss: 12.2879 - val_RMSE: 0.7918\n",
      "Epoch 21/60\n",
      "68/68 [==============================] - 1s 10ms/step - loss: 12.1281 - RMSE: 0.7768 - val_loss: 11.9792 - val_RMSE: 0.7915\n",
      "Epoch 22/60\n",
      "68/68 [==============================] - 1s 10ms/step - loss: 11.8237 - RMSE: 0.7897 - val_loss: 11.6787 - val_RMSE: 0.7913\n",
      "Epoch 23/60\n",
      "68/68 [==============================] - 1s 11ms/step - loss: 11.5271 - RMSE: 0.7747 - val_loss: 11.3863 - val_RMSE: 0.7910\n",
      "Epoch 24/60\n",
      "68/68 [==============================] - 1s 10ms/step - loss: 11.2387 - RMSE: 0.7740 - val_loss: 11.1019 - val_RMSE: 0.7908\n",
      "Epoch 25/60\n",
      "68/68 [==============================] - 1s 10ms/step - loss: 10.9579 - RMSE: 0.7767 - val_loss: 10.8250 - val_RMSE: 0.7906\n",
      "Epoch 26/60\n",
      "68/68 [==============================] - 1s 10ms/step - loss: 10.6843 - RMSE: 0.7755 - val_loss: 10.5556 - val_RMSE: 0.7904\n",
      "Epoch 27/60\n",
      "68/68 [==============================] - 1s 10ms/step - loss: 10.4177 - RMSE: 0.7792 - val_loss: 10.2934 - val_RMSE: 0.7902\n",
      "Epoch 28/60\n",
      "68/68 [==============================] - 1s 11ms/step - loss: 10.1591 - RMSE: 0.7835 - val_loss: 10.0383 - val_RMSE: 0.7901\n",
      "Epoch 29/60\n",
      "68/68 [==============================] - 1s 10ms/step - loss: 9.9078 - RMSE: 0.7764 - val_loss: 9.7900 - val_RMSE: 0.7899\n",
      "Epoch 30/60\n",
      "68/68 [==============================] - 1s 11ms/step - loss: 9.6623 - RMSE: 0.7733 - val_loss: 9.5484 - val_RMSE: 0.7897\n",
      "Epoch 31/60\n",
      "68/68 [==============================] - 1s 11ms/step - loss: 9.4233 - RMSE: 0.7745 - val_loss: 9.3133 - val_RMSE: 0.7896\n",
      "Epoch 32/60\n",
      "68/68 [==============================] - 1s 10ms/step - loss: 9.1915 - RMSE: 0.7725 - val_loss: 9.0844 - val_RMSE: 0.7894\n",
      "Epoch 33/60\n",
      "68/68 [==============================] - 1s 10ms/step - loss: 8.9661 - RMSE: 0.7749 - val_loss: 8.8618 - val_RMSE: 0.7893\n",
      "Epoch 34/60\n",
      "68/68 [==============================] - 1s 11ms/step - loss: 8.7460 - RMSE: 0.7739 - val_loss: 8.6450 - val_RMSE: 0.7891\n",
      "Epoch 35/60\n",
      "68/68 [==============================] - 1s 10ms/step - loss: 8.5324 - RMSE: 0.7731 - val_loss: 8.4341 - val_RMSE: 0.7889\n",
      "Epoch 36/60\n",
      "68/68 [==============================] - 1s 11ms/step - loss: 8.3240 - RMSE: 0.7716 - val_loss: 8.2289 - val_RMSE: 0.7888\n",
      "Epoch 37/60\n",
      "68/68 [==============================] - 1s 11ms/step - loss: 8.1210 - RMSE: 0.7731 - val_loss: 8.0292 - val_RMSE: 0.7887\n",
      "Epoch 38/60\n",
      "68/68 [==============================] - 1s 10ms/step - loss: 7.9245 - RMSE: 0.7737 - val_loss: 7.8349 - val_RMSE: 0.7885\n",
      "Epoch 39/60\n",
      "68/68 [==============================] - 1s 11ms/step - loss: 7.7318 - RMSE: 0.7768 - val_loss: 7.6458 - val_RMSE: 0.7884\n",
      "Epoch 40/60\n",
      "68/68 [==============================] - 1s 10ms/step - loss: 7.5453 - RMSE: 0.7719 - val_loss: 7.4617 - val_RMSE: 0.7883\n",
      "Epoch 41/60\n",
      "68/68 [==============================] - 1s 10ms/step - loss: 7.3638 - RMSE: 0.7709 - val_loss: 7.2826 - val_RMSE: 0.7882\n",
      "Epoch 42/60\n",
      "68/68 [==============================] - 1s 10ms/step - loss: 7.1869 - RMSE: 0.7779 - val_loss: 7.1083 - val_RMSE: 0.7881\n",
      "Epoch 43/60\n",
      "68/68 [==============================] - 1s 10ms/step - loss: 7.0149 - RMSE: 0.7699 - val_loss: 6.9387 - val_RMSE: 0.7879\n",
      "Epoch 44/60\n",
      "68/68 [==============================] - 1s 10ms/step - loss: 6.8479 - RMSE: 0.7701 - val_loss: 6.7736 - val_RMSE: 0.7879\n",
      "Epoch 45/60\n",
      "68/68 [==============================] - 1s 10ms/step - loss: 6.6841 - RMSE: 0.7724 - val_loss: 6.6130 - val_RMSE: 0.7878\n",
      "Epoch 46/60\n",
      "68/68 [==============================] - 1s 10ms/step - loss: 6.5261 - RMSE: 0.7722 - val_loss: 6.4567 - val_RMSE: 0.7877\n",
      "Epoch 47/60\n",
      "68/68 [==============================] - 1s 10ms/step - loss: 6.3717 - RMSE: 0.7717 - val_loss: 6.3046 - val_RMSE: 0.7876\n",
      "Epoch 48/60\n",
      "68/68 [==============================] - 1s 10ms/step - loss: 6.2211 - RMSE: 0.7703 - val_loss: 6.1565 - val_RMSE: 0.7875\n",
      "Epoch 49/60\n",
      "68/68 [==============================] - 1s 11ms/step - loss: 6.0749 - RMSE: 0.7691 - val_loss: 6.0125 - val_RMSE: 0.7874\n",
      "Epoch 50/60\n",
      "68/68 [==============================] - 1s 10ms/step - loss: 5.9333 - RMSE: 0.7722 - val_loss: 5.8723 - val_RMSE: 0.7873\n",
      "Epoch 51/60\n",
      "68/68 [==============================] - 1s 10ms/step - loss: 5.7944 - RMSE: 0.7704 - val_loss: 5.7358 - val_RMSE: 0.7872\n",
      "Epoch 52/60\n",
      "68/68 [==============================] - 1s 10ms/step - loss: 5.6596 - RMSE: 0.7700 - val_loss: 5.6031 - val_RMSE: 0.7871\n",
      "Epoch 53/60\n",
      "68/68 [==============================] - 1s 10ms/step - loss: 5.5291 - RMSE: 0.7713 - val_loss: 5.4738 - val_RMSE: 0.7870\n",
      "Epoch 54/60\n",
      "68/68 [==============================] - 1s 10ms/step - loss: 5.4012 - RMSE: 0.7708 - val_loss: 5.3481 - val_RMSE: 0.7870\n",
      "Epoch 55/60\n",
      "68/68 [==============================] - 1s 10ms/step - loss: 5.2772 - RMSE: 0.7709 - val_loss: 5.2257 - val_RMSE: 0.7869\n",
      "Epoch 56/60\n",
      "68/68 [==============================] - 1s 10ms/step - loss: 5.1562 - RMSE: 0.7707 - val_loss: 5.1067 - val_RMSE: 0.7868\n",
      "Epoch 57/60\n",
      "68/68 [==============================] - 1s 10ms/step - loss: 5.0389 - RMSE: 0.7754 - val_loss: 4.9908 - val_RMSE: 0.7868\n",
      "Epoch 58/60\n",
      "68/68 [==============================] - 1s 10ms/step - loss: 4.9244 - RMSE: 0.7706 - val_loss: 4.8780 - val_RMSE: 0.7867\n",
      "Epoch 59/60\n",
      "68/68 [==============================] - 1s 10ms/step - loss: 4.8122 - RMSE: 0.7699 - val_loss: 4.7683 - val_RMSE: 0.7866\n",
      "Epoch 60/60\n",
      "68/68 [==============================] - 1s 11ms/step - loss: 4.7047 - RMSE: 0.7692 - val_loss: 4.6614 - val_RMSE: 0.7865\n"
     ]
    }
   ],
   "source": [
    "result = model.fit(\n",
    "    x=[ratings_train.userid.values, ratings_train.place_id.values],\n",
    "    y=ratings_train.point.values - mu,\n",
    "    epochs=60,\n",
    "    batch_size=256,\n",
    "    validation_data=(\n",
    "        [ratings_test.userid.values, ratings_test.place_id.values],\n",
    "        ratings_test.point.values - mu\n",
    "    )\n",
    ")"
   ]
  },
  {
   "cell_type": "code",
   "execution_count": 22,
   "id": "c75ba5c4",
   "metadata": {},
   "outputs": [
    {
     "data": {
      "image/png": "[encoded data removed]",
      "text/plain": [
       "<Figure size 640x480 with 1 Axes>"
      ]
     },
     "metadata": {},
     "output_type": "display_data"
    }
   ],
   "source": [
    "import matplotlib.pyplot as plt\n",
    "plt.plot(result.history['RMSE'], label=\"Train RMSE\")\n",
    "plt.plot(result.history['val_RMSE'], label=\"Test RMSE\")\n",
    "plt.xlabel('epoch')\n",
    "plt.ylabel('RMSE')\n",
    "plt.legend()\n",
    "plt.show()"
   ]
  },
  {
   "cell_type": "code",
   "execution_count": 23,
   "id": "908e2121",
   "metadata": {},
   "outputs": [
    {
     "name": "stdout",
     "output_type": "stream",
     "text": [
      "Actuals: \n",
      "        place_id  userid  point\n",
      "15690       123    1798      4\n",
      "15614       123    5615      5\n",
      "19124       152    6568      4\n",
      "1269         55   10777      5\n",
      "17307       125    5315      3\n",
      "21486       207    3137      5\n",
      "\n",
      "Predictions: \n",
      " [[4.4109635]\n",
      " [4.4162393]\n",
      " [4.380667 ]\n",
      " [4.449589 ]\n",
      " [4.467372 ]\n",
      " [4.360977 ]]\n"
     ]
    },
    {
     "name": "stderr",
     "output_type": "stream",
     "text": [
      "2022-11-15 22:52:52.494775: I tensorflow/core/grappler/optimizers/custom_graph_optimizer_registry.cc:113] Plugin optimizer for device_type GPU is enabled.\n"
     ]
    }
   ],
   "source": [
    "user_ids = ratings_test.userid.values[0:6]\n",
    "place_ids = ratings_test.place_id.values[0:6]\n",
    "predictions = model.predict([user_ids, place_ids]) + mu\n",
    "print(\"Actuals: \\n\", ratings_test[0:6])\n",
    "print()\n",
    "print(\"Predictions: \\n\", predictions)"
   ]
  },
  {
   "cell_type": "code",
   "execution_count": 24,
   "id": "a599eab8",
   "metadata": {},
   "outputs": [
    {
     "data": {
      "text/plain": [
       "0.785815743747196"
      ]
     },
     "execution_count": 24,
     "metadata": {},
     "output_type": "execute_result"
    }
   ],
   "source": [
    "# RMSE check\n",
    "def RMSE2(y_true, y_pred):\n",
    "    return np.sqrt(np.mean((np.array(y_true) - np.array(y_pred))**2))\n",
    "\n",
    "user_ids = ratings_test.userid.values\n",
    "movie_ids = ratings_test.place_id.values\n",
    "y_pred = model.predict([user_ids, movie_ids]) + mu\n",
    "y_pred = np.ravel(y_pred, order='C')\n",
    "y_true = np.array(ratings_test.point)\n",
    "\n",
    "RMSE2(y_true, y_pred)\n"
   ]
  },
  {
   "cell_type": "code",
   "execution_count": null,
   "id": "e51f52b4",
   "metadata": {},
   "outputs": [],
   "source": []
  },
  {
   "cell_type": "code",
   "execution_count": null,
   "id": "1ae138dd",
   "metadata": {},
   "outputs": [],
   "source": []
  },
  {
   "cell_type": "code",
   "execution_count": 16,
   "id": "8860db57",
   "metadata": {},
   "outputs": [
    {
     "name": "stdout",
     "output_type": "stream",
     "text": [
      "Model: \"model_2\"\n",
      "__________________________________________________________________________________________________\n",
      " Layer (type)                   Output Shape         Param #     Connected to                     \n",
      "==================================================================================================\n",
      " input_5 (InputLayer)           [(None, 1)]          0           []                               \n",
      "                                                                                                  \n",
      " input_6 (InputLayer)           [(None, 1)]          0           []                               \n",
      "                                                                                                  \n",
      " embedding_8 (Embedding)        (None, 1, 200)       2322400     ['input_5[0][0]']                \n",
      "                                                                                                  \n",
      " embedding_9 (Embedding)        (None, 1, 200)       42400       ['input_6[0][0]']                \n",
      "                                                                                                  \n",
      " embedding_10 (Embedding)       (None, 1, 1)         11612       ['input_5[0][0]']                \n",
      "                                                                                                  \n",
      " embedding_11 (Embedding)       (None, 1, 1)         212         ['input_6[0][0]']                \n",
      "                                                                                                  \n",
      " flatten_2 (Flatten)            (None, 200)          0           ['embedding_8[0][0]']            \n",
      "                                                                                                  \n",
      " flatten_3 (Flatten)            (None, 200)          0           ['embedding_9[0][0]']            \n",
      "                                                                                                  \n",
      " flatten_4 (Flatten)            (None, 1)            0           ['embedding_10[0][0]']           \n",
      "                                                                                                  \n",
      " flatten_5 (Flatten)            (None, 1)            0           ['embedding_11[0][0]']           \n",
      "                                                                                                  \n",
      " concatenate (Concatenate)      (None, 402)          0           ['flatten_2[0][0]',              \n",
      "                                                                  'flatten_3[0][0]',              \n",
      "                                                                  'flatten_4[0][0]',              \n",
      "                                                                  'flatten_5[0][0]']              \n",
      "                                                                                                  \n",
      " dense (Dense)                  (None, 2048)         825344      ['concatenate[0][0]']            \n",
      "                                                                                                  \n",
      " activation (Activation)        (None, 2048)         0           ['dense[0][0]']                  \n",
      "                                                                                                  \n",
      " dense_1 (Dense)                (None, 256)          524544      ['activation[0][0]']             \n",
      "                                                                                                  \n",
      " activation_1 (Activation)      (None, 256)          0           ['dense_1[0][0]']                \n",
      "                                                                                                  \n",
      " dense_2 (Dense)                (None, 1)            257         ['activation_1[0][0]']           \n",
      "                                                                                                  \n",
      "==================================================================================================\n",
      "Total params: 3,726,769\n",
      "Trainable params: 3,726,769\n",
      "Non-trainable params: 0\n",
      "__________________________________________________________________________________________________\n"
     ]
    }
   ],
   "source": [
    "import tensorflow as tf\n",
    "from tensorflow.keras import layers\n",
    "from tensorflow.keras.models import Model\n",
    "from tensorflow.keras.layers import Input, Embedding, Dot, Add, Flatten\n",
    "from tensorflow.keras.regularizers import l2\n",
    "from tensorflow.keras.optimizers import SGD, Adamax\n",
    "\n",
    "K = 200\n",
    "mu = ratings_train.point.mean()\n",
    "M = ratings.userid.max() + 1\n",
    "N = ratings.place_id.max() + 1\n",
    "\n",
    "def RMSE(y_true, y_pred):\n",
    "    return tf.sqrt(tf.reduce_mean(tf.square(y_true - y_pred)))\n",
    "\n",
    "#Keras model\n",
    "user = Input(shape=(1,))\n",
    "item = Input(shape=(1,))\n",
    "P_embedding = Embedding(M,K,embeddings_regularizer=l2())(user)\n",
    "Q_embedding = Embedding(N,K,embeddings_regularizer=l2())(item)\n",
    "user_bias = Embedding(M,1,embeddings_regularizer=l2())(user)\n",
    "item_bias = Embedding(N,1,embeddings_regularizer=l2())(item)\n",
    "\n",
    "#Concatenate layers\n",
    "from tensorflow.keras.layers import Dense, Concatenate, Activation\n",
    "P_embedding = Flatten()(P_embedding)\n",
    "Q_embedding = Flatten()(Q_embedding)\n",
    "user_bias = Flatten()(user_bias)\n",
    "item_bias = Flatten()(item_bias)\n",
    "R = Concatenate()([P_embedding, Q_embedding, user_bias, item_bias])\n",
    "\n",
    "#Neural network\n",
    "R = Dense(2048)(R)\n",
    "R = Activation('linear')(R)\n",
    "R = Dense(256)(R)\n",
    "R = Activation('linear')(R)\n",
    "R = Dense(1)(R)\n",
    "\n",
    "model = Model(inputs=[user,item], outputs=R)\n",
    "model.compile(\n",
    "    loss=RMSE,\n",
    "    optimizer=SGD(),\n",
    "    metrics=[RMSE]\n",
    ")\n",
    "model.summary()"
   ]
  },
  {
   "cell_type": "code",
   "execution_count": 17,
   "id": "d5f5501b",
   "metadata": {},
   "outputs": [
    {
     "name": "stdout",
     "output_type": "stream",
     "text": [
      "Epoch 1/65\n"
     ]
    },
    {
     "name": "stderr",
     "output_type": "stream",
     "text": [
      "2022-11-15 22:49:59.361495: I tensorflow/core/grappler/optimizers/custom_graph_optimizer_registry.cc:113] Plugin optimizer for device_type GPU is enabled.\n"
     ]
    },
    {
     "name": "stdout",
     "output_type": "stream",
     "text": [
      "34/34 [==============================] - ETA: 0s - loss: 20.4720 - RMSE: 0.7911"
     ]
    },
    {
     "name": "stderr",
     "output_type": "stream",
     "text": [
      "2022-11-15 22:50:01.226122: I tensorflow/core/grappler/optimizers/custom_graph_optimizer_registry.cc:113] Plugin optimizer for device_type GPU is enabled.\n"
     ]
    },
    {
     "name": "stdout",
     "output_type": "stream",
     "text": [
      "34/34 [==============================] - 3s 30ms/step - loss: 20.4720 - RMSE: 0.7911 - val_loss: 20.3387 - val_RMSE: 0.8016\n",
      "Epoch 2/65\n",
      "34/34 [==============================] - 0s 15ms/step - loss: 20.2052 - RMSE: 0.7891 - val_loss: 20.0741 - val_RMSE: 0.8010\n",
      "Epoch 3/65\n",
      "34/34 [==============================] - 1s 15ms/step - loss: 19.9424 - RMSE: 0.7890 - val_loss: 19.8131 - val_RMSE: 0.8004\n",
      "Epoch 4/65\n",
      "34/34 [==============================] - 1s 16ms/step - loss: 19.6829 - RMSE: 0.7870 - val_loss: 19.5557 - val_RMSE: 0.7999\n",
      "Epoch 5/65\n",
      "34/34 [==============================] - 0s 14ms/step - loss: 19.4271 - RMSE: 0.7881 - val_loss: 19.3017 - val_RMSE: 0.7994\n",
      "Epoch 6/65\n",
      "34/34 [==============================] - 1s 15ms/step - loss: 19.1743 - RMSE: 0.7871 - val_loss: 19.0512 - val_RMSE: 0.7989\n",
      "Epoch 7/65\n",
      "34/34 [==============================] - 0s 14ms/step - loss: 18.9256 - RMSE: 0.7860 - val_loss: 18.8041 - val_RMSE: 0.7984\n",
      "Epoch 8/65\n",
      "34/34 [==============================] - 1s 15ms/step - loss: 18.6800 - RMSE: 0.7857 - val_loss: 18.5604 - val_RMSE: 0.7980\n",
      "Epoch 9/65\n",
      "34/34 [==============================] - 0s 14ms/step - loss: 18.4375 - RMSE: 0.7869 - val_loss: 18.3200 - val_RMSE: 0.7976\n",
      "Epoch 10/65\n",
      "34/34 [==============================] - 1s 15ms/step - loss: 18.1989 - RMSE: 0.7845 - val_loss: 18.0828 - val_RMSE: 0.7971\n",
      "Epoch 11/65\n",
      "34/34 [==============================] - 0s 15ms/step - loss: 17.9631 - RMSE: 0.7842 - val_loss: 17.8489 - val_RMSE: 0.7967\n",
      "Epoch 12/65\n",
      "34/34 [==============================] - 1s 15ms/step - loss: 17.7305 - RMSE: 0.7827 - val_loss: 17.6182 - val_RMSE: 0.7965\n",
      "Epoch 13/65\n",
      "34/34 [==============================] - 1s 15ms/step - loss: 17.5011 - RMSE: 0.7832 - val_loss: 17.3905 - val_RMSE: 0.7960\n",
      "Epoch 14/65\n",
      "34/34 [==============================] - 1s 15ms/step - loss: 17.2749 - RMSE: 0.7817 - val_loss: 17.1659 - val_RMSE: 0.7956\n",
      "Epoch 15/65\n",
      "34/34 [==============================] - 0s 14ms/step - loss: 17.0515 - RMSE: 0.7831 - val_loss: 16.9444 - val_RMSE: 0.7952\n",
      "Epoch 16/65\n",
      "34/34 [==============================] - 1s 15ms/step - loss: 16.8313 - RMSE: 0.7825 - val_loss: 16.7259 - val_RMSE: 0.7949\n",
      "Epoch 17/65\n",
      "34/34 [==============================] - 1s 15ms/step - loss: 16.6143 - RMSE: 0.7815 - val_loss: 16.5103 - val_RMSE: 0.7945\n",
      "Epoch 18/65\n",
      "34/34 [==============================] - 1s 15ms/step - loss: 16.3993 - RMSE: 0.7803 - val_loss: 16.2976 - val_RMSE: 0.7942\n",
      "Epoch 19/65\n",
      "34/34 [==============================] - 1s 15ms/step - loss: 16.1884 - RMSE: 0.7810 - val_loss: 16.0878 - val_RMSE: 0.7938\n",
      "Epoch 20/65\n",
      "34/34 [==============================] - 1s 15ms/step - loss: 15.9800 - RMSE: 0.7800 - val_loss: 15.8809 - val_RMSE: 0.7935\n",
      "Epoch 21/65\n",
      "34/34 [==============================] - 0s 14ms/step - loss: 15.7741 - RMSE: 0.7797 - val_loss: 15.6768 - val_RMSE: 0.7932\n",
      "Epoch 22/65\n",
      "34/34 [==============================] - 0s 14ms/step - loss: 15.5710 - RMSE: 0.7794 - val_loss: 15.4754 - val_RMSE: 0.7928\n",
      "Epoch 23/65\n",
      "34/34 [==============================] - 1s 15ms/step - loss: 15.3710 - RMSE: 0.7786 - val_loss: 15.2768 - val_RMSE: 0.7925\n",
      "Epoch 24/65\n",
      "34/34 [==============================] - 1s 16ms/step - loss: 15.1735 - RMSE: 0.7779 - val_loss: 15.0808 - val_RMSE: 0.7922\n",
      "Epoch 25/65\n",
      "34/34 [==============================] - 1s 15ms/step - loss: 14.9782 - RMSE: 0.7769 - val_loss: 14.8875 - val_RMSE: 0.7919\n",
      "Epoch 26/65\n",
      "34/34 [==============================] - 0s 14ms/step - loss: 14.7862 - RMSE: 0.7769 - val_loss: 14.6968 - val_RMSE: 0.7917\n",
      "Epoch 27/65\n",
      "34/34 [==============================] - 0s 14ms/step - loss: 14.5968 - RMSE: 0.7772 - val_loss: 14.5086 - val_RMSE: 0.7913\n",
      "Epoch 28/65\n",
      "34/34 [==============================] - 0s 14ms/step - loss: 14.4095 - RMSE: 0.7761 - val_loss: 14.3231 - val_RMSE: 0.7910\n",
      "Epoch 29/65\n",
      "34/34 [==============================] - 1s 15ms/step - loss: 14.2253 - RMSE: 0.7752 - val_loss: 14.1400 - val_RMSE: 0.7907\n",
      "Epoch 30/65\n",
      "34/34 [==============================] - 1s 15ms/step - loss: 14.0432 - RMSE: 0.7764 - val_loss: 13.9594 - val_RMSE: 0.7904\n",
      "Epoch 31/65\n",
      "34/34 [==============================] - 1s 15ms/step - loss: 13.8636 - RMSE: 0.7747 - val_loss: 13.7813 - val_RMSE: 0.7902\n",
      "Epoch 32/65\n",
      "34/34 [==============================] - 1s 16ms/step - loss: 13.6865 - RMSE: 0.7738 - val_loss: 13.6055 - val_RMSE: 0.7899\n",
      "Epoch 33/65\n",
      "34/34 [==============================] - 1s 16ms/step - loss: 13.5113 - RMSE: 0.7738 - val_loss: 13.4322 - val_RMSE: 0.7897\n",
      "Epoch 34/65\n",
      "34/34 [==============================] - 1s 16ms/step - loss: 13.3392 - RMSE: 0.7739 - val_loss: 13.2612 - val_RMSE: 0.7894\n",
      "Epoch 35/65\n",
      "34/34 [==============================] - 0s 14ms/step - loss: 13.1691 - RMSE: 0.7727 - val_loss: 13.0925 - val_RMSE: 0.7891\n",
      "Epoch 36/65\n",
      "34/34 [==============================] - 0s 15ms/step - loss: 13.0015 - RMSE: 0.7736 - val_loss: 12.9260 - val_RMSE: 0.7888\n",
      "Epoch 37/65\n",
      "34/34 [==============================] - 1s 15ms/step - loss: 12.8360 - RMSE: 0.7726 - val_loss: 12.7619 - val_RMSE: 0.7886\n",
      "Epoch 38/65\n",
      "34/34 [==============================] - 1s 16ms/step - loss: 12.6730 - RMSE: 0.7732 - val_loss: 12.5999 - val_RMSE: 0.7884\n",
      "Epoch 39/65\n",
      "34/34 [==============================] - 1s 15ms/step - loss: 12.5115 - RMSE: 0.7708 - val_loss: 12.4402 - val_RMSE: 0.7882\n",
      "Epoch 40/65\n",
      "34/34 [==============================] - 1s 15ms/step - loss: 12.3528 - RMSE: 0.7710 - val_loss: 12.2826 - val_RMSE: 0.7879\n",
      "Epoch 41/65\n",
      "34/34 [==============================] - 0s 14ms/step - loss: 12.1959 - RMSE: 0.7704 - val_loss: 12.1271 - val_RMSE: 0.7877\n",
      "Epoch 42/65\n",
      "34/34 [==============================] - 1s 16ms/step - loss: 12.0416 - RMSE: 0.7708 - val_loss: 11.9738 - val_RMSE: 0.7875\n",
      "Epoch 43/65\n",
      "34/34 [==============================] - 1s 15ms/step - loss: 11.8888 - RMSE: 0.7711 - val_loss: 11.8225 - val_RMSE: 0.7872\n",
      "Epoch 44/65\n",
      "34/34 [==============================] - 0s 14ms/step - loss: 11.7388 - RMSE: 0.7718 - val_loss: 11.6733 - val_RMSE: 0.7870\n",
      "Epoch 45/65\n",
      "34/34 [==============================] - 1s 15ms/step - loss: 11.5903 - RMSE: 0.7693 - val_loss: 11.5260 - val_RMSE: 0.7868\n",
      "Epoch 46/65\n",
      "34/34 [==============================] - 0s 14ms/step - loss: 11.4439 - RMSE: 0.7698 - val_loss: 11.3808 - val_RMSE: 0.7866\n",
      "Epoch 47/65\n",
      "34/34 [==============================] - 1s 15ms/step - loss: 11.2995 - RMSE: 0.7699 - val_loss: 11.2375 - val_RMSE: 0.7864\n",
      "Epoch 48/65\n",
      "34/34 [==============================] - 0s 14ms/step - loss: 11.1570 - RMSE: 0.7685 - val_loss: 11.0962 - val_RMSE: 0.7862\n",
      "Epoch 49/65\n",
      "34/34 [==============================] - 1s 15ms/step - loss: 11.0165 - RMSE: 0.7693 - val_loss: 10.9569 - val_RMSE: 0.7861\n",
      "Epoch 50/65\n",
      "34/34 [==============================] - 0s 14ms/step - loss: 10.8777 - RMSE: 0.7687 - val_loss: 10.8193 - val_RMSE: 0.7859\n",
      "Epoch 51/65\n",
      "34/34 [==============================] - 1s 16ms/step - loss: 10.7410 - RMSE: 0.7679 - val_loss: 10.6837 - val_RMSE: 0.7858\n",
      "Epoch 52/65\n",
      "34/34 [==============================] - 1s 15ms/step - loss: 10.6061 - RMSE: 0.7678 - val_loss: 10.5498 - val_RMSE: 0.7855\n",
      "Epoch 53/65\n",
      "34/34 [==============================] - 0s 14ms/step - loss: 10.4731 - RMSE: 0.7675 - val_loss: 10.4177 - val_RMSE: 0.7853\n",
      "Epoch 54/65\n",
      "34/34 [==============================] - 0s 14ms/step - loss: 10.3417 - RMSE: 0.7691 - val_loss: 10.2875 - val_RMSE: 0.7851\n",
      "Epoch 55/65\n",
      "34/34 [==============================] - 1s 16ms/step - loss: 10.2119 - RMSE: 0.7668 - val_loss: 10.1590 - val_RMSE: 0.7850\n",
      "Epoch 56/65\n",
      "34/34 [==============================] - 1s 16ms/step - loss: 10.0843 - RMSE: 0.7668 - val_loss: 10.0323 - val_RMSE: 0.7849\n",
      "Epoch 57/65\n",
      "34/34 [==============================] - 1s 15ms/step - loss: 9.9584 - RMSE: 0.7676 - val_loss: 9.9074 - val_RMSE: 0.7849\n",
      "Epoch 58/65\n",
      "34/34 [==============================] - 0s 14ms/step - loss: 9.8340 - RMSE: 0.7653 - val_loss: 9.7840 - val_RMSE: 0.7846\n",
      "Epoch 59/65\n",
      "34/34 [==============================] - 1s 16ms/step - loss: 9.7114 - RMSE: 0.7660 - val_loss: 9.6623 - val_RMSE: 0.7844\n",
      "Epoch 60/65\n",
      "34/34 [==============================] - 0s 12ms/step - loss: 9.5901 - RMSE: 0.7670 - val_loss: 9.5422 - val_RMSE: 0.7842\n",
      "Epoch 61/65\n"
     ]
    },
    {
     "name": "stdout",
     "output_type": "stream",
     "text": [
      "34/34 [==============================] - 1s 15ms/step - loss: 9.4712 - RMSE: 0.7662 - val_loss: 9.4238 - val_RMSE: 0.7840\n",
      "Epoch 62/65\n",
      "34/34 [==============================] - 0s 15ms/step - loss: 9.3532 - RMSE: 0.7648 - val_loss: 9.3071 - val_RMSE: 0.7840\n",
      "Epoch 63/65\n",
      "34/34 [==============================] - 0s 14ms/step - loss: 9.2372 - RMSE: 0.7659 - val_loss: 9.1918 - val_RMSE: 0.7837\n",
      "Epoch 64/65\n",
      "34/34 [==============================] - 1s 15ms/step - loss: 9.1227 - RMSE: 0.7651 - val_loss: 9.0781 - val_RMSE: 0.7836\n",
      "Epoch 65/65\n",
      "34/34 [==============================] - 0s 14ms/step - loss: 9.0095 - RMSE: 0.7641 - val_loss: 8.9660 - val_RMSE: 0.7835\n"
     ]
    }
   ],
   "source": [
    "result = model.fit(\n",
    "    x=[ratings_train.userid.values, ratings_train.place_id.values],\n",
    "    y=ratings_train.point.values - mu,\n",
    "    epochs=65,\n",
    "    batch_size=512,\n",
    "    validation_data=(\n",
    "        [ratings_test.userid.values, ratings_test.place_id.values],\n",
    "        ratings_test.point.values - mu\n",
    "    )\n",
    ")"
   ]
  },
  {
   "cell_type": "code",
   "execution_count": 18,
   "id": "3fb10309",
   "metadata": {},
   "outputs": [
    {
     "data": {
      "image/png": "[encoded data removed]",
      "text/plain": [
       "<Figure size 640x480 with 1 Axes>"
      ]
     },
     "metadata": {},
     "output_type": "display_data"
    }
   ],
   "source": [
    "import matplotlib.pyplot as plt\n",
    "plt.plot(result.history['RMSE'], label=\"Train RMSE\")\n",
    "plt.plot(result.history['val_RMSE'], label=\"Test RMSE\")\n",
    "plt.xlabel('epoch')\n",
    "plt.ylabel('RMSE')\n",
    "plt.legend()\n",
    "plt.show()"
   ]
  },
  {
   "cell_type": "code",
   "execution_count": 19,
   "id": "42de9173",
   "metadata": {},
   "outputs": [
    {
     "name": "stdout",
     "output_type": "stream",
     "text": [
      "Actuals: \n",
      "        place_id  userid  point\n",
      "15690       123    1798      4\n",
      "15614       123    5615      5\n",
      "19124       152    6568      4\n",
      "1269         55   10777      5\n",
      "17307       125    5315      3\n",
      "21486       207    3137      5\n",
      "\n",
      "Predictions: \n",
      " [[4.4160347]\n",
      " [4.4291506]\n",
      " [4.3813696]\n",
      " [4.507661 ]\n",
      " [4.520993 ]\n",
      " [4.3707304]]\n"
     ]
    },
    {
     "name": "stderr",
     "output_type": "stream",
     "text": [
      "2022-11-15 22:51:40.578190: I tensorflow/core/grappler/optimizers/custom_graph_optimizer_registry.cc:113] Plugin optimizer for device_type GPU is enabled.\n"
     ]
    }
   ],
   "source": [
    "user_ids = ratings_test.userid.values[0:6]\n",
    "place_ids = ratings_test.place_id.values[0:6]\n",
    "predictions = model.predict([user_ids, place_ids]) + mu\n",
    "print(\"Actuals: \\n\", ratings_test[0:6])\n",
    "print()\n",
    "print(\"Predictions: \\n\", predictions)"
   ]
  },
  {
   "cell_type": "code",
   "execution_count": null,
   "id": "1a092d8e",
   "metadata": {},
   "outputs": [],
   "source": []
  }
 ],
 "metadata": {
  "kernelspec": {
   "display_name": "Python 3 (ipykernel)",
   "language": "python",
   "name": "python3"
  },
  "language_info": {
   "codemirror_mode": {
    "name": "ipython",
    "version": 3
   },
   "file_extension": ".py",
   "mimetype": "text/x-python",
   "name": "python",
   "nbconvert_exporter": "python",
   "pygments_lexer": "ipython3",
   "version": "3.9.0"
  }
 },
 "nbformat": 4,
 "nbformat_minor": 5
}
